{
 "cells": [
  {
   "cell_type": "code",
   "execution_count": 2,
   "id": "813d94e4",
   "metadata": {},
   "outputs": [
    {
     "name": "stdout",
     "output_type": "stream",
     "text": [
      "                  Date  NTDOY  SONY  MSFT  ATVI  EA  TTWO  NCBDY  CCOEY  \\\n",
      "2020-01-02  2020-01-02      0     0     0     0   0     0      0      0   \n",
      "2020-01-03  2020-01-03      0     0     0     0   0     0      0      0   \n",
      "2020-01-06  2020-01-06      0     0     0     0   0     0      0      0   \n",
      "2020-01-07  2020-01-07      0     0     0     0   0     0      0      0   \n",
      "2020-01-08  2020-01-08      0     0     0     0   0     0      0      0   \n",
      "...                ...    ...   ...   ...   ...  ..   ...    ...    ...   \n",
      "2022-12-26  2022-12-26      0     0     0     0   0     0      0      0   \n",
      "2022-12-27  2022-12-27      0     0     0     0   0     0      0      0   \n",
      "2022-12-28  2022-12-28      0     0     0     0   0     0      0      0   \n",
      "2022-12-29  2022-12-29      0     0     0     0   0     0      0      0   \n",
      "2022-12-30  2022-12-30      0     0     0     0   0     0      0      0   \n",
      "\n",
      "            TCEHY  ...          1         2           3          4          5  \\\n",
      "2020-01-02      0  ...  1180500.0  856500.0  22622100.0        0.0  4293200.0   \n",
      "2020-01-03      0  ...   506000.0       0.0  21116200.0  4466300.0  2728500.0   \n",
      "2020-01-06      0  ...  1162500.0  755500.0  20813700.0  4910800.0  4712100.0   \n",
      "2020-01-07      0  ...        0.0       0.0         0.0  4920300.0  4667000.0   \n",
      "2020-01-08      0  ...  2783000.0       0.0  27746500.0        0.0  2925200.0   \n",
      "...           ...  ...        ...       ...         ...        ...        ...   \n",
      "2022-12-26      0  ...        0.0       0.0         0.0        0.0        0.0   \n",
      "2022-12-27      0  ...        0.0       0.0         0.0        0.0  4433500.0   \n",
      "2022-12-28      0  ...        0.0       0.0         0.0  3049900.0        0.0   \n",
      "2022-12-29      0  ...   684300.0  574500.0  19770700.0  3150100.0  4546700.0   \n",
      "2022-12-30      0  ...   862900.0  413500.0  21938500.0  2710400.0  1505500.0   \n",
      "\n",
      "                    6          7         8         9     10  \n",
      "2020-01-02        0.0        0.0       0.0       0.0    0.0  \n",
      "2020-01-03  1840300.0   729100.0       0.0       0.0    0.0  \n",
      "2020-01-06  2934200.0  1678700.0       0.0       0.0    0.0  \n",
      "2020-01-07        0.0  1179300.0  917700.0  917700.0    0.0  \n",
      "2020-01-08  2651600.0  1665900.0       0.0       0.0    0.0  \n",
      "...               ...        ...       ...       ...    ...  \n",
      "2022-12-26        0.0        0.0  295300.0  295300.0    0.0  \n",
      "2022-12-27        0.0  1225100.0       0.0       0.0  100.0  \n",
      "2022-12-28        0.0  1928800.0       0.0       0.0  200.0  \n",
      "2022-12-29  1222800.0  1526400.0  541200.0  541200.0    0.0  \n",
      "2022-12-30  1164400.0  1749700.0       0.0       0.0  100.0  \n",
      "\n",
      "[781 rows x 21 columns]\n"
     ]
    }
   ],
   "source": [
    "# -*- coding: utf-8 -*-\n",
    "\"\"\"\n",
    "Task0.ipynb\n",
    "\"\"\"\n",
    "\n",
    "import pandas as pd\n",
    "\n",
    "data_frame = pd.read_csv('Task 0 Input.csv')\n",
    "\n",
    "dates = data_frame['Date'].unique()\n",
    "\n",
    "new_data_frame = pd.DataFrame(index=dates, columns=['Date', 'NTDOY', 'SONY', 'MSFT', 'ATVI', 'EA', 'TTWO', 'NCBDY', 'CCOEY', 'TCEHY', 'SQNXF'])\n",
    "\n",
    "new_data_frame['Date'] = dates\n",
    "\n",
    "for index, row in data_frame.iterrows():\n",
    "\n",
    "  if row['Close'] - row['Open'] >= 0:\n",
    "    new_data_frame.loc[row['Date'], row['Company']] = row['Volume']\n",
    "  else:\n",
    "    new_data_frame.loc[row['Date'], row['Company']] = 0\n",
    "\n",
    "new_data_frame = new_data_frame.fillna(0)\n",
    "new_data_frame = new_data_frame.sort_values(by='Date')\n",
    "\n",
    "print(new_data_frame)\n",
    "\n",
    "new_data_frame.to_csv('Task 0 Output.csv', index=False)"
   ]
  },
  {
   "cell_type": "code",
   "execution_count": null,
   "id": "42b0c5fa",
   "metadata": {},
   "outputs": [],
   "source": []
  }
 ],
 "metadata": {
  "kernelspec": {
   "display_name": "Python 3 (ipykernel)",
   "language": "python",
   "name": "python3"
  },
  "language_info": {
   "codemirror_mode": {
    "name": "ipython",
    "version": 3
   },
   "file_extension": ".py",
   "mimetype": "text/x-python",
   "name": "python",
   "nbconvert_exporter": "python",
   "pygments_lexer": "ipython3",
   "version": "3.11.5"
  }
 },
 "nbformat": 4,
 "nbformat_minor": 5
}
