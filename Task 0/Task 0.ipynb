{
 "cells": [
  {
   "cell_type": "code",
   "execution_count": 2,
   "id": "813d94e4",
   "metadata": {},
   "outputs": [
    {
     "name": "stdout",
     "output_type": "stream",
     "text": [
      "                  Date    NTDOY    SONY      MSFT     ATVI       EA     TTWO  \\\n",
      "2020-01-02  2020-01-02  1180500  856500  22622100        0        0        0   \n",
      "2020-01-03  2020-01-03   506000       0  21116200  4466300  1840300   729100   \n",
      "2020-01-06  2020-01-06  1162500  755500  20813700  4910800  2934200  1678700   \n",
      "2020-01-07  2020-01-07        0       0         0  4920300        0  1179300   \n",
      "2020-01-08  2020-01-08  2783000       0  27746500        0  2651600  1665900   \n",
      "...                ...      ...     ...       ...      ...      ...      ...   \n",
      "2022-12-26  2022-12-26        0       0         0        0        0        0   \n",
      "2022-12-27  2022-12-27        0       0         0        0        0  1225100   \n",
      "2022-12-28  2022-12-28        0       0         0  3049900        0  1928800   \n",
      "2022-12-29  2022-12-29   684300  574500  19770700  3150100  1222800  1526400   \n",
      "2022-12-30  2022-12-30   862900  413500  21938500  2710400  1164400  1749700   \n",
      "\n",
      "             NCBDY   CCOEY    TCEHY  SQNXF  \n",
      "2020-01-02       0       0  4293200      0  \n",
      "2020-01-03       0       0  2728500      0  \n",
      "2020-01-06       0       0  4712100      0  \n",
      "2020-01-07  917700  917700  4667000      0  \n",
      "2020-01-08       0       0  2925200      0  \n",
      "...            ...     ...      ...    ...  \n",
      "2022-12-26  295300  295300        0      0  \n",
      "2022-12-27       0       0  4433500    100  \n",
      "2022-12-28       0       0        0    200  \n",
      "2022-12-29  541200  541200  4546700      0  \n",
      "2022-12-30       0       0  1505500    100  \n",
      "\n",
      "[781 rows x 11 columns]\n"
     ]
    }
   ],
   "source": [
    "# -*- coding: utf-8 -*-\n",
    "\"\"\"\n",
    "Task0.ipynb\n",
    "\"\"\"\n",
    "\n",
    "import pandas as pd\n",
    "\n",
    "data_frame = pd.read_csv('Task 0 Input.csv')\n",
    "\n",
    "dates = data_frame['Date'].unique()\n",
    "\n",
    "new_data_frame = pd.DataFrame(index=dates, columns=['Date', 'NTDOY', 'SONY', 'MSFT', 'ATVI', 'EA', 'TTWO', 'NCBDY', 'CCOEY', 'TCEHY', 'SQNXF'])\n",
    "\n",
    "new_data_frame['Date'] = dates\n",
    "\n",
    "for index, row in data_frame.iterrows():\n",
    "\n",
    "  if row['Close'] - row['Open'] >= 0:\n",
    "    new_data_frame.loc[row['Date'], row['Company']] = row['Volume']\n",
    "  else:\n",
    "    new_data_frame.loc[row['Date'], row['Company']] = 0\n",
    "\n",
    "new_data_frame = new_data_frame.fillna(0)\n",
    "new_data_frame = new_data_frame.sort_values(by='Date')\n",
    "\n",
    "print(new_data_frame)\n",
    "\n",
    "new_data_frame.to_csv('Task 0 Output.csv', index=False)"
   ]
  },
  {
   "cell_type": "code",
   "execution_count": null,
   "id": "42b0c5fa",
   "metadata": {},
   "outputs": [],
   "source": []
  }
 ],
 "metadata": {
  "kernelspec": {
   "display_name": "Python 3 (ipykernel)",
   "language": "python",
   "name": "python3"
  },
  "language_info": {
   "codemirror_mode": {
    "name": "ipython",
    "version": 3
   },
   "file_extension": ".py",
   "mimetype": "text/x-python",
   "name": "python",
   "nbconvert_exporter": "python",
   "pygments_lexer": "ipython3",
   "version": "3.11.5"
  }
 },
 "nbformat": 4,
 "nbformat_minor": 5
}
